{
 "cells": [
  {
   "cell_type": "markdown",
   "source": [
    "Переместить маски в зеркальную папку"
   ],
   "metadata": {
    "collapsed": false
   }
  },
  {
   "cell_type": "code",
   "execution_count": null,
   "outputs": [],
   "source": [
    "dataset_directory = Path('Whale ReId 2_mm')\n",
    "mask_directory = 'Whale ReId 2_mm masked'\n",
    "\n",
    "for file in dataset_directory.glob('**/*.png'):\n",
    "    Path(mask_directory, *file.parts[1:-1]).mkdir(parents=True, exist_ok=True)\n",
    "    file.rename(Path(mask_directory, *file.parts[1:]))"
   ],
   "metadata": {
    "collapsed": false
   }
  }
 ],
 "metadata": {
  "kernelspec": {
   "display_name": "Python 3",
   "language": "python",
   "name": "python3"
  },
  "language_info": {
   "codemirror_mode": {
    "name": "ipython",
    "version": 2
   },
   "file_extension": ".py",
   "mimetype": "text/x-python",
   "name": "python",
   "nbconvert_exporter": "python",
   "pygments_lexer": "ipython2",
   "version": "2.7.6"
  }
 },
 "nbformat": 4,
 "nbformat_minor": 0
}
